{
 "cells": [
  {
   "cell_type": "code",
   "execution_count": 26,
   "metadata": {},
   "outputs": [],
   "source": [
    "client = MongoClient(host = \"mongodb://localhost:27017/\")\n",
    "    \n",
    "db = client.db_agg\n",
    "transactions = db.transactions"
   ]
  },
  {
   "cell_type": "code",
   "execution_count": 35,
   "metadata": {},
   "outputs": [
    {
     "name": "stdout",
     "output_type": "stream",
     "text": [
      "Question 2:\n",
      "[{'_id': None, 'total': 1640}]\n"
     ]
    }
   ],
   "source": [
    "# Q-1. Calculer le montant total des paiements ?\n",
    "# Indice : key : Payment.Total\n",
    "pipeline = [\n",
    "    {\"$unwind\": \"$Panier\"},\n",
    "    {\"$group\": {\"_id\": None, \"total\": {\"$sum\": \"$Panier.price\" }}},\n",
    "]\n",
    "        \n",
    "r1 = [ t for t in transactions.aggregate(pipeline) ]\n",
    "print(\"Question 1:\\n{}\".format(r1))"
   ]
  },
  {
   "cell_type": "code",
   "execution_count": 30,
   "metadata": {},
   "outputs": [
    {
     "name": "stdout",
     "output_type": "stream",
     "text": [
      "Question 2:\n",
      "[{'_id': 'tran4', 'total': 410}, {'_id': 'tran3', 'total': 410}, {'_id': 'tran2', 'total': 410}, {'_id': 'tran1', 'total': 410}]\n"
     ]
    }
   ],
   "source": [
    "# Q-2. Calculer le montant total par transactions (montant total du panier) ?\n",
    "pipeline = [\n",
    "    {\"$unwind\": \"$Panier\"},\n",
    "    {\"$group\": {\"_id\": \"$TransactionId\", \"total\": {\"$sum\": \"$Panier.price\" }}},\n",
    "]\n",
    "        \n",
    "r2 = [ t for t in transactions.aggregate(pipeline) ]\n",
    "print(\"Question 2:\\n{}\".format(r2))"
   ]
  },
  {
   "cell_type": "code",
   "execution_count": 31,
   "metadata": {},
   "outputs": [
    {
     "name": "stdout",
     "output_type": "stream",
     "text": [
      "{'_id': 'Debit-Card', 'Total Payment': 410}\n",
      "{'_id': 'Credit-Card', 'Total Payment': 820}\n"
     ]
    }
   ],
   "source": [
    "# Q-3. Calculate total payments (Payment.Total) for each payment type (Payment.Type) ?\n",
    "\n",
    "matching = {\"$match\":{\"Payment\":{\"$ne\": None}}}\n",
    "TotalPayment = {\"$group\" : {\"_id\" : \"$Payment.Type\", \"Total Payment\" : { \"$sum\" : \"$Payment.Total\" }}}\n",
    "for t in transactions.aggregate( [matching,TotalPayment] ):\n",
    "    print(t)"
   ]
  },
  {
   "cell_type": "code",
   "execution_count": 36,
   "metadata": {},
   "outputs": [
    {
     "name": "stdout",
     "output_type": "stream",
     "text": [
      "{'_id': None, 'Id': 103}\n"
     ]
    }
   ],
   "source": [
    "# Q-4. Trouver l'Id le plus élevé.\n",
    "group = {\"$group\": { \"_id\" : None , \"Id\": {\"$max\": \"$Id\"} }}\n",
    "sort = {\"$sort\" : {\"max\" : -1}}\n",
    "\n",
    "for t in transactions.aggregate([group, sort]):\n",
    "    print(t)"
   ]
  },
  {
   "cell_type": "code",
   "execution_count": 33,
   "metadata": {},
   "outputs": [
    {
     "name": "stdout",
     "output_type": "stream",
     "text": [
      "{'_id': None, 'max_price': 210}\n"
     ]
    }
   ],
   "source": [
    "# Q-5. Find the max price (Transaction.price) ?\n",
    "eclater = { \"$unwind\" : '$Panier' }\n",
    "maxPrice = { \"$group\" : {\"_id\" : None , \"max_price\" : { \"$max\" : \"$Panier.price\" }} }\n",
    "tri = {\"$sort\" : {\"max\" : -1}}\n",
    "for t in transactions.aggregate( [eclater, maxPrice, tri] ):\n",
    "    print(t)"
   ]
  },
  {
   "cell_type": "code",
   "execution_count": null,
   "metadata": {},
   "outputs": [],
   "source": []
  }
 ],
 "metadata": {
  "kernelspec": {
   "display_name": "Python 3",
   "language": "python",
   "name": "python3"
  },
  "language_info": {
   "codemirror_mode": {
    "name": "ipython",
    "version": 3
   },
   "file_extension": ".py",
   "mimetype": "text/x-python",
   "name": "python",
   "nbconvert_exporter": "python",
   "pygments_lexer": "ipython3",
   "version": "3.8.3"
  }
 },
 "nbformat": 4,
 "nbformat_minor": 4
}
