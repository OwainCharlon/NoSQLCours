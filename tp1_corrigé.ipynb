{
 "cells": [
  {
   "cell_type": "code",
   "execution_count": 7,
   "metadata": {},
   "outputs": [],
   "source": [
    "import pymongo\n",
    "from pymongo import MongoClient\n",
    "import json\n",
    "#from pprint import pprint\n",
    "from pathlib import Path\n",
    "\n",
    "#Création d'une connexion au serveur mongoDB.\n",
    "def get_client():\n",
    "\n",
    "    try:\n",
    "        client = MongoClient(host = \"mongodb://localhost:27017/\")\n",
    "        #client.server_info()\n",
    "    except:\n",
    "        print (\"connection error\")\n",
    "\n",
    "    return client"
   ]
  },
  {
   "cell_type": "code",
   "execution_count": 13,
   "metadata": {},
   "outputs": [
    {
     "name": "stdout",
     "output_type": "stream",
     "text": [
      "The database exists.\n",
      "Collections don't exist, database has been droped...\n"
     ]
    }
   ],
   "source": [
    "################################ insertOne() avec MongoDB & Python (pymongo) ################################\n",
    "\n",
    "\n",
    "#Q : Créer une première DB \"metflix\" qui contient une collection \"movies\" dans laquelle vous inserez les documents suivants : \n",
    "# Comparer le comportement du shell Mongo et Python\n",
    "\n",
    "def Q1():\n",
    "    #Connexion à mongo...\n",
    "    my_client = get_client()\n",
    "    \n",
    "    #Suppression (si elle existe) puis création de la base de donnée.\n",
    "    if \"metflix\" in my_client.list_database_names():\n",
    "        print(\"The database exists.\")\n",
    "        my_client.drop_database('metflix')\n",
    "        \n",
    "        #Création de la base de donnée.\n",
    "        my_db = my_client[\"metflix\"]\n",
    "    \n",
    "        #Création des collections et insertions des données.\n",
    "        if \"movies\" or \"users\" not in my_db.list_collection_names():\n",
    "            print(\"Collections don't exist, database has been dropped...\")\n",
    "            new_col1 = my_db[\"movies\"]\n",
    "            data_list = [\n",
    "                { \"title\": \"Rocky\", \"year\": 1976},\n",
    "                { \"title\": \"Rocky\", \"year\": 1976,  \"_id\" : \"tt0075148\"},\n",
    "                { \"firstname\": \"Charlon\", \"lastname\": \"Owain\"}\n",
    "            ]\n",
    "            new_col1.insert_one(data_list[0])\n",
    "            new_col1.insert_one(data_list[1])\n",
    "\n",
    "            new_col2 = my_db[\"users\"]\n",
    "            new_col2.insert_one(data_list[2])\n",
    "            print(\"Collections created with success.\")\n",
    "    \n",
    "Q1()"
   ]
  },
  {
   "cell_type": "code",
   "execution_count": 19,
   "metadata": {},
   "outputs": [
    {
     "name": "stdout",
     "output_type": "stream",
     "text": [
      "The database exists.\n",
      "Collection created with success.\n"
     ]
    }
   ],
   "source": [
    "################################ insertMany() ################################\n",
    "\n",
    "# Q : Supp la dernière collection, la recréer en y insérant les documents suivants :\n",
    "#   title = Rocky, year = 1976, _id = tt0075148\n",
    "#   title = Jaws, year = 1975, imdb = tt0073195\n",
    "#   title = Mad Max 2 : The Road Warrior, year = 1981, imdb = tt0082694\n",
    "#   title = Raiders of the Lost Ark, year = 1981, imdb = tt0082971\n",
    "\n",
    "def Q2():\n",
    "    #Connexion à mongo...\n",
    "    my_client = get_client()\n",
    "    \n",
    "    #Si la base de données existe...\n",
    "    if \"metflix\" in my_client.list_database_names():\n",
    "        print(\"The database exists.\")\n",
    "        \n",
    "        #Connexion à la base de donnée.\n",
    "        my_db = my_client[\"metflix\"]\n",
    "        \n",
    "        #Suppression de la dernière collection si elle existe.\n",
    "        if \"movies\" and \"users\" in my_db.list_collection_names():\n",
    "            movies_col = my_db[\"movies\"]\n",
    "            movies_col.drop()\n",
    "        #Création de la nouvelle collection et insertion des données via insertMany()\n",
    "        new_movies_col = my_db[\"movies\"]\n",
    "        \n",
    "        data_list = [\n",
    "                { \"title\": \"Rocky\", \"year\": 1976, \"_id\" : \"tt0075148\"},\n",
    "                { \"title\": \"Jaws\", \"year\": 1975,  \"imdb\" : \"tt0073195\"},\n",
    "                { \"title\": \"Mad Max 2 : The Road Warrior\", \"year\": 1981,  \"imdb\" : \"tt0082694\"},\n",
    "                { \"title\": \"Raiders of the Lost Ark\", \"year\": 1981,  \"imdb\" : \"tt0082971\"}\n",
    "        ]\n",
    "        \n",
    "        new_movies_col.insert_many(data_list)\n",
    "        print(\"Collection created with success.\")\n",
    "    else:\n",
    "        print(\"The database doesn't exist...You should create it by calling previous methods\")\n",
    "\n",
    "Q2()    "
   ]
  },
  {
   "cell_type": "code",
   "execution_count": 11,
   "metadata": {},
   "outputs": [
    {
     "name": "stdout",
     "output_type": "stream",
     "text": [
      "The database exists.\n",
      "All movies:\n",
      "[{'_id': 'tt0075148', 'title': 'Rocky', 'year': 1976}, {'_id': ObjectId('60031fc78beb27dff80c4137'), 'title': 'Jaws', 'year': 1975, 'imdb': 'tt0073195'}, {'_id': ObjectId('60031fc78beb27dff80c4138'), 'title': 'Mad Max 2 : The Road Warrior', 'year': 1981, 'imdb': 'tt0082694'}, {'_id': ObjectId('60031fc78beb27dff80c4139'), 'title': 'Raiders of the Lost Ark', 'year': 1981, 'imdb': 'tt0082971'}]\n",
      "\"First movie:\\n{'_id': 'tt0075148', 'title': 'Rocky', 'year': 1976}\"\n",
      "\"1981 movie(s):\\n[{'_id': ObjectId('60031fc78beb27dff80c4138'), 'title': 'Mad Max 2 : The Road Warrior', 'year': 1981, 'imdb': 'tt0082694'}, {'_id': ObjectId('60031fc78beb27dff80c4139'), 'title': 'Raiders of the Lost Ark', 'year': 1981, 'imdb': 'tt0082971'}]\"\n",
      "\"Movie named Jaws:\\n[{'_id': ObjectId('60031fc78beb27dff80c4137'), 'title': 'Jaws', 'year': 1975, 'imdb': 'tt0073195'}]\"\n"
     ]
    }
   ],
   "source": [
    "################################ find() avec des paramètres ################################\n",
    "\n",
    "# Q : Afficher ts les documents de la collection movies, le tout 1er document, \n",
    "# le(s) document(s) où on trouve les films produits en 1981, le document où on trouve le film qui porte le titre \"Jaws\".\n",
    "\n",
    "def Q3():\n",
    "    #Connexion à mongo...\n",
    "    my_client = get_client()\n",
    "    \n",
    "    #Si la base de données existe...\n",
    "    if \"metflix\" in my_client.list_database_names():\n",
    "        print(\"The database exists.\")\n",
    "        \n",
    "        #Connexion à la base de donnée et à la collection movies.\n",
    "        my_db = my_client[\"metflix\"]\n",
    "        movies_col = my_db[\"movies\"]\n",
    "        \n",
    "        #Récuperation et affichage de tous les documents de la collection movies.\n",
    "        all_movies = [movie for movie in movies_col.find()]\n",
    "        print( 'All movies:\\n{}'.format(all_movies) )\n",
    "        \n",
    "        #Récuperation et affichage du tout 1er document.\n",
    "        first_movie = movies_col.find_one()\n",
    "        print('First movie:\\n{}'.format(first_movie))\n",
    "        \n",
    "        #Récuperation et affichage du (ou des) document(s) où se trouve les films produits en 1981.\n",
    "        year_movies = [movie for movie in movies_col.find({\"year\": 1981})]\n",
    "        print('1981 movie(s):\\n{}'.format(year_movies))\n",
    "        \n",
    "        #Récuperation et affichage du document où se trouve le dont le titre est \"Jaws\".\n",
    "        title_movie = [movie for movie in movies_col.find({\"title\": \"Jaws\"})]\n",
    "        print('Movie named Jaws:\\n{}'.format(title_movie))\n",
    "        \n",
    "    else:\n",
    "        print(\"The database doesn't exist...You should create it by calling previous methods\")\n",
    "\n",
    "Q3()"
   ]
  },
  {
   "cell_type": "code",
   "execution_count": 6,
   "metadata": {},
   "outputs": [
    {
     "name": "stdout",
     "output_type": "stream",
     "text": [
      "The database exists.\n",
      "Datas from json document well injected...\n"
     ]
    }
   ],
   "source": [
    "################################ Import de fichiers .json ################################\n",
    "\n",
    "# Q : Créer une DB movies_artists avec deux collections : une pour les films et l’autre pour les artistes \n",
    "# (voir les fichiers artists.json et movies.json associés).\n",
    "# Rq: Préciser, lors de l'injection des fichiers json, dans la commande \"mongoimport\" la possibilité de supprimer la collection \n",
    "# si elle existe (pour qu'elle soit recréer de nouveau et y injecter de la data fraîche).\n",
    "# Indice :\n",
    "#   use movies_artists  // La création de la BD est implicite\n",
    "#   // La création des deux collections est implicites\n",
    "#   mongoimport -d nom_db -c nom_collection --drop --file \"C:/.../movies.json\" --jsonArray\n",
    "#   // Vérification\n",
    "#   db.artists.find().pretty()\n",
    "#   db.movies.find().pretty()\n",
    "\n",
    "def Q4():\n",
    "    #Connexion à mongo...\n",
    "    my_client = get_client()\n",
    "    \n",
    "    #Suppression (si elle existe) puis création de la base de donnée, cela supprime aussi les collections à chaque fois...\n",
    "    if \"movies_artists\" in my_client.list_database_names():\n",
    "        print(\"The database exists.\")\n",
    "        my_client.drop_database('movies_artists')\n",
    "        \n",
    "    #Création de la base de donnée.\n",
    "    my_db = my_client[\"movies_artists\"]\n",
    "        \n",
    "    #Création des collections nécéssaires.\n",
    "    new_col1 = my_db[\"artists\"]\n",
    "    new_col2 = my_db[\"movies\"]\n",
    "        \n",
    "    #Insertion des données... Changer le chemin absolu si nécéssaire...\n",
    "    data_artists_path = r\"C:\\Users\\owcha\\Desktop\\NoSQL\\ressources\\json\\artists.json\" #raw string treats \\ as a literal character.\n",
    "    data_movies_path = r\"C:\\Users\\owcha\\Desktop\\NoSQL\\ressources\\json\\movies.json\"\n",
    "    try :\n",
    "        with open(data_artists_path) as json_data:\n",
    "            artists_data = json.load(json_data)\n",
    "\n",
    "        with open(data_movies_path) as json_data:\n",
    "            movies_data = json.load(json_data)\n",
    "    except :\n",
    "        print(\"Something went wrong, check your paths\")\n",
    "            \n",
    "    new_col1.insert_many(artists_data)\n",
    "    new_col2.insert_many(movies_data)\n",
    "        \n",
    "    print(\"Datas from json document well injected...\")\n",
    "\n",
    "Q4()"
   ]
  },
  {
   "cell_type": "code",
   "execution_count": 7,
   "metadata": {
    "scrolled": true
   },
   "outputs": [
    {
     "name": "stdout",
     "output_type": "stream",
     "text": [
      "The database exists.\n",
      "Datas from json document well injected...\n"
     ]
    }
   ],
   "source": [
    "# Q : Augmenter la collection movies et artists avec les fichiers movies_suite.json et artists_suite.json \n",
    "# après les avoir transformer en csv (la conversion du json vers csv est obligatoire).\n",
    "# Indice :\n",
    "# - à l'aide de mongoimport\n",
    "# mongoimport -d movies_artists -c artists --type csv --headerline --file \"C:/.../artists_suite.csv\"\n",
    "# mongoimport -d movies_artists -c collection movies --mode insert --file \"C:/.../movies_suite.json\" --jsonArray\n",
    "# - Autres méthodes sont possibles : ...\n",
    "\n",
    "def Q5():\n",
    "    #Connexion à mongo...\n",
    "    my_client = get_client()\n",
    "    \n",
    "    #Connexion à la base de données si elle existe.\n",
    "    if \"movies_artists\" in my_client.list_database_names():\n",
    "        print(\"The database exists.\")\n",
    "        my_db = my_client[\"movies_artists\"]\n",
    "        \n",
    "        #Completion des collections si elles existent...\n",
    "        if \"artists\" and \"movies\" in my_db.list_collection_names():\n",
    "            #Insertion des données... Changer le chemin absolu si nécéssaire...\n",
    "            data_artists_path2 = r\"C:\\Users\\owcha\\Desktop\\NoSQL\\ressources\\json\\artists_suite.json\"\n",
    "            data_movies_path2 = r\"C:\\Users\\owcha\\Desktop\\NoSQL\\ressources\\json\\movies_suite.json\"\n",
    "            try :\n",
    "                with open(data_artists_path2) as json_data:\n",
    "                    artists_data2 = json.load(json_data)\n",
    "\n",
    "                with open(data_movies_path2) as json_data:\n",
    "                    movies_data2 = json.load(json_data)\n",
    "            except :\n",
    "                print(\"Something went wrong, check your paths\")\n",
    "            \n",
    "            my_db[\"artists\"].insert_many(artists_data2)\n",
    "            my_db[\"movies\"].insert_many(movies_data2)\n",
    "        \n",
    "            print(\"Datas from json document well completed...\")\n",
    "        else:\n",
    "            print(\"Collections don't exist...You should create it by calling previous methods\")\n",
    "    \n",
    "    else:\n",
    "        print(\"The database doesn't exist...You should create it by calling previous methods\")\n",
    "\n",
    "Q5()\n",
    "\n",
    "# Q : Approfondissement\n",
    "# Q : Qu'est-ce q'un upsert et cmnt faire upsert à l'aide d'un fichier json ?\n",
    "\n",
    "# upsert -> cette commande permet de faire un update si la recherche retourne une valeur, sinon elle insert les données en paramètre.\n",
    "\n",
    "# exemple d'une synthaxe upsert via bulk sous mongo : Bulk.find(<query>).upsert().update(<update>);\n",
    "#exempled'une synthaxe avec mongoimport : mongoimport -d nom_db -c nom_collection --mode upsert --upsertFields Id --file \"C:/.../movies_upsert.json\" --jsonArray"
   ]
  },
  {
   "cell_type": "code",
   "execution_count": 17,
   "metadata": {},
   "outputs": [
    {
     "name": "stdout",
     "output_type": "stream",
     "text": [
      "The database exists.\n",
      "Movies:[{'_id': 'movie:11', 'title': 'PiÃ¨ge de cristal'}, {'_id': 'movie:12', 'title': '58 minutes pour vivre'}, {'_id': 'movie:13', 'title': 'Van Gogh'}, {'_id': 'movie:14', 'title': 'Seven'}, {'_id': 'movie:15', 'title': 'Twelve Monkeys'}, {'_id': 'movie:16', 'title': 'Le last_name de la rose'}, {'_id': 'movie:17', 'title': 'Pulp fiction'}, {'_id': 'movie:18', 'title': 'Mary Ã\\xa0 tout prix'}, {'_id': 'movie:19', 'title': 'Terminator'}, {'_id': 'movie:20', 'title': 'Les dents de la mer'}, {'_id': 'movie:21', 'title': 'Le silence des agneaux'}, {'_id': 'movie:22', 'title': 'Godzilla'}]\n"
     ]
    }
   ],
   "source": [
    "################################ Pagination des résultats ################################\n",
    "\n",
    "# Q : Afficher les 12 documents (films) à partir du dixième inclus en se limitant aux title et _id.\n",
    "# Indice : Les options skip et limit permettent de « paginer » le résultat (comme en SQL)\n",
    "\n",
    "def Q6():\n",
    "    #Connexion à mongo...\n",
    "    my_client = get_client()\n",
    "    \n",
    "    #Connexion à la base de données si elle existe.\n",
    "    if \"movies_artists\" in my_client.list_database_names():\n",
    "        print(\"The database exists.\")\n",
    "        my_db = my_client[\"movies_artists\"]\n",
    "        #Récuperation des films.\n",
    "        movies_Q6 = [ movie for movie in my_db[\"movies\"].find({},{\"_id\": 1, \"title\" : 1}).limit(12).skip(10)]\n",
    "        print(\"Movies:\\n{}\".format(movies_Q6))\n",
    "        \n",
    "    else:\n",
    "        print(\"The database doesn't exist...You should create it by calling previous methods\")\n",
    "        \n",
    "Q6()"
   ]
  },
  {
   "cell_type": "code",
   "execution_count": 19,
   "metadata": {},
   "outputs": [
    {
     "name": "stdout",
     "output_type": "stream",
     "text": [
      "The database exists.\n",
      "Movies asc:[{'_id': 'movie:50', 'title': 'The Matrix Revolutions'}, {'_id': 'movie:90', 'title': 'The Dark Knight Rises'}, {'_id': 'movie:89', 'title': 'The Dark Knight'}, {'_id': 'movie:19', 'title': 'Terminator'}, {'_id': 'movie:70', 'title': 'Taxi driver'}, {'_id': 'movie:62', 'title': 'Stalingrad'}, {'_id': 'movie:47', 'title': 'Spider-Man'}, {'_id': 'movie:68', 'title': 'Soleil vert'}, {'_id': 'movie:6', 'title': 'Sleepy Hollow'}, {'_id': 'movie:74', 'title': 'Skyfall'}, {'_id': 'movie:59', 'title': 'SixiÃ¨me sens'}, {'_id': 'movie:38', 'title': 'Shining'}]\n",
      "Movies desc:[{'_id': 'movie:37', 'title': 'Eyes Wide Shut'}, {'_id': 'movie:77', 'title': 'Fargo'}, {'_id': 'movie:40', 'title': 'FenÃªtre sur cour'}, {'_id': 'movie:9', 'title': 'Gladiator'}, {'_id': 'movie:22', 'title': 'Godzilla'}, {'_id': 'movie:69', 'title': 'Heat'}, {'_id': 'movie:8', 'title': 'Impitoyable'}, {'_id': 'movie:86', 'title': 'Inception'}, {'_id': 'movie:79', 'title': 'Inglourious Basterds'}, {'_id': 'movie:80', 'title': 'Inglourious Basterds'}, {'_id': 'movie:85', 'title': 'Interstellar'}, {'_id': 'movie:57', 'title': 'Jackie Brown'}]\n"
     ]
    }
   ],
   "source": [
    "################################ Trier les resultats ################################\n",
    "# Q : Trier les documents (de la dernière qry) sur le titre du film ds un ordre croissant (ensuite décroissant).\n",
    "# Indice : utiliser sort()\n",
    "\n",
    "def Q7():\n",
    "    #Connexion à mongo...\n",
    "    my_client = get_client()\n",
    "    \n",
    "    #Connexion à la base de données si elle existe.\n",
    "    if \"movies_artists\" in my_client.list_database_names():\n",
    "        print(\"The database exists.\")\n",
    "        my_db = my_client[\"movies_artists\"]\n",
    "        #Récuperation des films.\n",
    "        movies_filtered_asc_Q7 = [ movie for movie in my_db[\"movies\"].find({},{\"_id\": 1, \"title\" : 1}).limit(12).skip(10).sort(\"title\", 1) ]\n",
    "        print(\"Movies asc:\\n{}\".format(movies_filtered_asc_Q7))\n",
    "        movies_filtered_desc_Q7 = [ movie for movie in my_db[\"movies\"].find({},{\"_id\": 1, \"title\" : 1}).limit(12).skip(10).sort(\"title\", -1) ]\n",
    "        print(\"Movies desc:\\n{}\".format(movies_filtered_desc_Q7))\n",
    "        \n",
    "    else:\n",
    "        print(\"The database doesn't exist...You should create it by calling previous methods\")\n",
    "        \n",
    "Q7()"
   ]
  },
  {
   "cell_type": "code",
   "execution_count": 20,
   "metadata": {},
   "outputs": [
    {
     "name": "stdout",
     "output_type": "stream",
     "text": [
      "The database exists.\n",
      "Movie with where id is 2 :{'_id': 'movie:2', 'title': 'Alien', 'genre': 'Science-fiction', 'summary': 'PrÃ¨s d\\'un vaisseau spatial Ã©chouÃ© sur une lointaine planÃ¨te, des Terriens en mission dÃ©couvrent de bien Ã©tranges \"oeufs\". Ils en ramÃ¨nent un Ã\\xa0 bord, ignorant qu\\'ils viennent d\\'introduire parmi eux un huitiÃ¨me passager particuliÃ¨rement fÃ©roce et meurtrier. '}\n"
     ]
    }
   ],
   "source": [
    "################################ Critères de recherche simples ################################\n",
    "# Q : Afficher les infos du film dont l'id est 2, se limiter aux infos relatives au titre, au genre et au summary.\n",
    "# Indice : utiliser findOne({\"_id\": \"movie:2\"}, {\"title\" : 1,...})\n",
    "# Projection (ramener des sous parties des documents)\n",
    "\n",
    "def Q8():\n",
    "    #Connexion à mongo...\n",
    "    my_client = get_client()\n",
    "    \n",
    "    #Connexion à la base de données si elle existe.\n",
    "    if \"movies_artists\" in my_client.list_database_names():\n",
    "        print(\"The database exists.\")\n",
    "        my_db = my_client[\"movies_artists\"]\n",
    "        #Récuperation du film.\n",
    "        movie_query_Q8 = my_db[\"movies\"].find_one({\"_id\": \"movie:2\"},{\"title\" : 1, \"genre\": 1, \"summary\": 1 })\n",
    "        print(\"Movie with where id is 2 :\\n{}\".format(movie_query_Q8))\n",
    "        \n",
    "    else:\n",
    "        print(\"The database doesn't exist...You should create it by calling previous methods\")\n",
    "        \n",
    "Q8()"
   ]
  },
  {
   "cell_type": "code",
   "execution_count": 15,
   "metadata": {},
   "outputs": [
    {
     "name": "stdout",
     "output_type": "stream",
     "text": [
      "The database exists.\n",
      "Movies produced in 1979 :\n",
      "[{'_id': 'movie:31', 'title': 'Les bronzÃ©s font du ski', 'year': 1979, 'actors': [{'_id': 'artist:75', 'role': 'Nathalie Morin'}, {'_id': 'artist:76', 'role': 'Christiane'}, {'_id': 'artist:84', 'role': 'Jean-Claude Dus'}, {'_id': 'artist:85', 'role': 'JÃ©rÃ´me'}, {'_id': 'artist:86', 'role': 'Popeye'}]}, {'_id': 'movie:2', 'title': 'Alien', 'year': 1979, 'actors': [{'_id': 'artist:5', 'role': 'Ripley'}]}]\n"
     ]
    }
   ],
   "source": [
    "# Q : Combien de films ont été produit en en 1979 et les afficher en se limitant aux infos relatives au titre, \n",
    "# à l'année et à la liste des acteurs suivant un ordre alphabétique décroissant sur le titre.\n",
    "# Indice : 2films : Alien et les bronzés font du ski.\n",
    "\n",
    "def Q9():\n",
    "    #Connexion à mongo...\n",
    "    my_client = get_client()\n",
    "    \n",
    "    #Connexion à la base de données si elle existe.\n",
    "    if \"movies_artists\" in my_client.list_database_names():\n",
    "        print(\"The database exists.\")\n",
    "        my_db = my_client[\"movies_artists\"]\n",
    "        #Récuperation du film.\n",
    "        movies_query_Q9 = [ movie for movie in my_db[\"movies\"].find({\"year\": 1979},{\"title\" : 1, \"year\": 1, \"actors\": 1 }).sort([(\"title\", -1), (\"year\", 1)]) ]\n",
    "        print(\"Movies produced in 1979 :\\n{}\".format(movies_query_Q9))\n",
    "        \n",
    "    else:\n",
    "        print(\"The database doesn't exist...You should create it by calling previous methods\")\n",
    "      \n",
    "Q9()"
   ]
  },
  {
   "cell_type": "code",
   "execution_count": 33,
   "metadata": {},
   "outputs": [
    {
     "name": "stdout",
     "output_type": "stream",
     "text": [
      "The database exists.\n",
      "SF movies produced in 1979 :\n",
      "{'title': 'Alien', 'year': 1979, 'genre': 'Science-fiction', 'country': 'USA', 'director': {'_id': 'artist:4'}, 'actors': [{'_id': 'artist:5', 'role': 'Ripley'}]}\n"
     ]
    }
   ],
   "source": [
    "# Q : Afficher les infos sur le film dont le genre est \"Science-fiction\" et produit en 1979 sans préciser l'_id et le summary.\n",
    "# Indice : Alien ! Si on choisit d’indiquer des attributs à exclure on leur donne la valeur 0 ou null !\n",
    "\n",
    "def Q10():\n",
    "    #Connexion à mongo...\n",
    "    my_client = get_client()\n",
    "    \n",
    "    #Connexion à la base de données si elle existe.\n",
    "    if \"movies_artists\" in my_client.list_database_names():\n",
    "        print(\"The database exists.\")\n",
    "        my_db = my_client[\"movies_artists\"]\n",
    "        #Récuperation du film.\n",
    "        movie_query_Q10 = my_db[\"movies\"].find_one({\"year\": 1979, \"genre\" : \"Science-fiction\"},{\"_id\" : 0, \"summary\": 0})\n",
    "        print(\"SF movies produced in 1979 :\\n{}\".format(movie_query_Q10))\n",
    "        \n",
    "    else:\n",
    "        print(\"The database doesn't exist...You should create it by calling previous methods\")\n",
    "        \n",
    "Q10()"
   ]
  },
  {
   "cell_type": "code",
   "execution_count": 35,
   "metadata": {},
   "outputs": [
    {
     "name": "stdout",
     "output_type": "stream",
     "text": [
      "The database exists.\n",
      "Movies produced by director 4 :\n",
      "[{'_id': 'movie:2', 'title': 'Alien', 'year': 1979, 'director': {'_id': 'artist:4'}, 'actors': [{'_id': 'artist:5', 'role': 'Ripley'}]}, {'_id': 'movie:10', 'title': 'Blade Runner', 'year': 1982, 'director': {'_id': 'artist:4'}, 'actors': [{'_id': 'artist:24', 'role': 'Deckard'}, {'_id': 'artist:25', 'role': 'Batty'}]}, {'_id': 'movie:9', 'title': 'Gladiator', 'year': 2000, 'director': {'_id': 'artist:4'}, 'actors': [{'_id': 'artist:23', 'role': 'Maximus'}, {'_id': 'artist:147', 'role': 'Commode'}, {'_id': 'artist:148', 'role': 'Lucilla'}, {'_id': 'artist:149', 'role': 'Marc Aurele'}]}]\n"
     ]
    }
   ],
   "source": [
    "################################ Critères de recherche complexes ################################\n",
    "\n",
    "# Recherche dans un objet ou un tableau imbriqué.\n",
    "# Q : Combien de films produits par le director dont l'id est 4 et les afficher de plus récent au moins récent \n",
    "# (sans le résumé ni le country ni le genre).\n",
    "# Indice : Gladiator, Blade Runer et Alien\n",
    "\n",
    "def Q11():\n",
    "    #Connexion à mongo...\n",
    "    my_client = get_client()\n",
    "    \n",
    "    #Connexion à la base de données si elle existe.\n",
    "    if \"movies_artists\" in my_client.list_database_names():\n",
    "        print(\"The database exists.\")\n",
    "        my_db = my_client[\"movies_artists\"]\n",
    "        #Récuperation des films.\n",
    "        movies_query_Q11 = [ movie for movie in my_db[\"movies\"].find({\"director\":{\"_id\" : \"artist:4\"}},{\"genre\" : 0, \"summary\": 0, \"country\": 0}).sort(\"year\", 1) ]\n",
    "        print(\"Movies produced by director 4 :\\n{}\".format(movies_query_Q11))\n",
    "        \n",
    "    else:\n",
    "        print(\"The database doesn't exist...You should create it by calling previous methods\")\n",
    "        \n",
    "Q11()"
   ]
  },
  {
   "cell_type": "code",
   "execution_count": 36,
   "metadata": {},
   "outputs": [
    {
     "name": "stdout",
     "output_type": "stream",
     "text": [
      "The database exists.\n",
      "Movies produced by director 4 with an actor who has pl:\n",
      "[{'_id': 'movie:9', 'title': 'Gladiator', 'year': 2000, 'director': {'_id': 'artist:4'}, 'actors': [{'_id': 'artist:23', 'role': 'Maximus'}, {'_id': 'artist:147', 'role': 'Commode'}, {'_id': 'artist:148', 'role': 'Lucilla'}, {'_id': 'artist:149', 'role': 'Marc Aurele'}]}]\n"
     ]
    }
   ],
   "source": [
    "# Q : Combien de films produits par le director qui porte l'id 4 et dont l'un des acteurs a joué le rôle de Maximus \n",
    "# et les afficher sans le résumé ni le country ni le genre.\n",
    "\n",
    "def Q12():\n",
    "    #Connexion à mongo...\n",
    "    my_client = get_client()\n",
    "    \n",
    "    #Connexion à la base de données si elle existe.\n",
    "    if \"movies_artists\" in my_client.list_database_names():\n",
    "        print(\"The database exists.\")\n",
    "        my_db = my_client[\"movies_artists\"]\n",
    "        #Récuperation des films.\n",
    "        movies_query_Q12 = [ movie for movie in my_db[\"movies\"].find({\"director\":{\"_id\" : \"artist:4\"}, \"actors.role\": \"Maximus\"},{\"genre\" : 0, \"summary\": 0, \"country\": 0}).sort(\"year\", 1) ]\n",
    "        print(\"Movies produced by director 4 with an actor who has played in Maximus:\\n{}\".format(movies_query_Q12))\n",
    "        \n",
    "    else:\n",
    "        print(\"The database doesn't exist...You should create it by calling previous methods\")\n",
    "        \n",
    "Q12()"
   ]
  },
  {
   "cell_type": "code",
   "execution_count": 38,
   "metadata": {},
   "outputs": [
    {
     "name": "stdout",
     "output_type": "stream",
     "text": [
      "The database exists.\n",
      "Movies produced :\n",
      "[{'_id': 'movie:9', 'title': 'Gladiator', 'year': 2000}, {'_id': 'movie:87', 'title': 'Memento', 'year': 2000}, {'_id': 'movie:62', 'title': 'Stalingrad', 'year': 2001}, {'_id': 'movie:47', 'title': 'Spider-Man', 'year': 2002}, {'_id': 'movie:49', 'title': 'The Matrix reloaded', 'year': 2003}, {'_id': 'movie:50', 'title': 'The Matrix Revolutions', 'year': 2003}, {'_id': 'movie:60', 'title': 'Lost in Translation', 'year': 2003}, {'_id': 'movie:61', 'title': 'Kill Bill', 'year': 2003}]\n"
     ]
    }
   ],
   "source": [
    "################################ Critère de recherche par intervalles ################################\n",
    "# Q : Ts les films produits après 2000 compris et avant 2005 exlus (dans un ordre chronologique) en se limitant au titre \n",
    "# du film et son année de production.\n",
    "\n",
    "def Q13():\n",
    "    #Connexion à mongo...\n",
    "    my_client = get_client()\n",
    "    \n",
    "    #Connexion à la base de données si elle existe.\n",
    "    if \"movies_artists\" in my_client.list_database_names():\n",
    "        print(\"The database exists.\")\n",
    "        my_db = my_client[\"movies_artists\"]\n",
    "        #Récuperation des films.\n",
    "        movies_query_Q13 = [ movie for movie in my_db[\"movies\"].find({\"year\":{\"$gte\":2000,\"$lt\":2005}},{\"title\" : 1, \"year\": 1}).sort(\"year\", 1) ]\n",
    "        print(\"Movies produced :\\n{}\".format(movies_query_Q13))\n",
    "        \n",
    "    else:\n",
    "        print(\"The database doesn't exist...You should create it by calling previous methods\")\n",
    "        \n",
    "Q13()"
   ]
  },
  {
   "cell_type": "code",
   "execution_count": 39,
   "metadata": {
    "scrolled": true
   },
   "outputs": [
    {
     "name": "stdout",
     "output_type": "stream",
     "text": [
      "The database exists.\n",
      "Movies produced in 1997 or with an actor who has an id = 147 :\n",
      "[{'_id': 'movie:3', 'title': 'Titanic', 'year': 1997, 'actors': [{'_id': 'artist:109', 'role': 'Rose DeWitt Bukater'}, {'_id': 'artist:110', 'role': 'Jack Dawson'}]}, {'_id': 'movie:5', 'title': 'Volte/Face', 'year': 1997, 'actors': [{'_id': 'artist:11', 'role': 'Sean Archer/Castor Troy'}, {'_id': 'artist:12', 'role': 'Castor Troy/Sean Archer'}]}, {'_id': 'movie:9', 'title': 'Gladiator', 'year': 2000, 'actors': [{'_id': 'artist:23', 'role': 'Maximus'}, {'_id': 'artist:147', 'role': 'Commode'}, {'_id': 'artist:148', 'role': 'Lucilla'}, {'_id': 'artist:149', 'role': 'Marc Aurele'}]}, {'_id': 'movie:26', 'title': 'Les pleins pouvoirs', 'year': 1997, 'actors': [{'_id': 'artist:20', 'role': 'Luther Whitney'}, {'_id': 'artist:21', 'role': 'Le prÃ©sident Richmond'}, {'_id': 'artist:69', 'role': 'Seth Frank'}]}, {'_id': 'movie:28', 'title': 'Le monde perdu', 'year': 1997, 'actors': [{'_id': 'artist:57', 'role': 'Dr. Ian Malcolm'}]}, {'_id': 'movie:43', 'title': 'Le cinquiÃ¨me Ã©lÃ©ment', 'year': 1997, 'actors': [{'_id': 'artist:27', 'role': 'Major Korben Dalla'}, {'_id': 'artist:112', 'role': 'Leeloo'}, {'_id': 'artist:116', 'role': 'Jean-Baptiste Emmanuel Zorg'}, {'_id': 'artist:117', 'role': 'Vito Cornelius'}]}, {'_id': 'movie:57', 'title': 'Jackie Brown', 'year': 1997, 'actors': [{'_id': 'artist:167', 'role': 'Luis Gara'}, {'_id': 'artist:168', 'role': 'Jackie Brown'}, {'_id': 'artist:169', 'role': 'Melanie'}, {'_id': 'artist:170', 'role': 'Ray Nicolette'}, {'_id': 'artist:212', 'role': 'Ordell Robbie'}]}]\n"
     ]
    }
   ],
   "source": [
    "################################ Opérateurs booléens ################################\n",
    "# Q : Lister les films parus en 1997 ou avec l'acteur id = 147.\n",
    "# db.movies.find({$or : [{\"year\": 1997}, {\"actors._id\": \"artist:147\"}] })\n",
    "\n",
    "def Q14():\n",
    "    #Connexion à mongo...\n",
    "    my_client = get_client()\n",
    "    \n",
    "    #Connexion à la base de données si elle existe.\n",
    "    if \"movies_artists\" in my_client.list_database_names():\n",
    "        print(\"The database exists.\")\n",
    "        my_db = my_client[\"movies_artists\"]\n",
    "        #Récuperation des films.\n",
    "        movies_query_Q14 = [ movie for movie in my_db[\"movies\"].find({\"$or\" : [{\"year\": 1997}, {\"actors._id\": \"artist:147\"}] },{\"title\" : 1, \"year\": 1, \"actors\":1}) ]\n",
    "        print(\"Movies produced in 1997 or with an actor who has an id = 147 :\\n{}\".format(movies_query_Q14))\n",
    "        \n",
    "    else:\n",
    "        print(\"The database doesn't exist...You should create it by calling previous methods\")\n",
    "        \n",
    "Q14()"
   ]
  },
  {
   "cell_type": "code",
   "execution_count": 16,
   "metadata": {},
   "outputs": [
    {
     "name": "stdout",
     "output_type": "stream",
     "text": [
      "The database exists.\n",
      "Movies with artist 24, 98 or 1 :\n",
      "[{'_id': 'movie:56', 'title': 'Le parrain III', 'actors': [{'_id': 'artist:1', 'role': 'Mary Corleone'}, {'_id': 'artist:176', 'role': 'Michael Corleone'}, {'_id': 'artist:183', 'role': 'Kay Adams'}, {'_id': 'artist:186', 'role': 'Vincent Mancini'}]}, {'_id': 'movie:36', 'title': 'Reservoir dogs', 'actors': [{'_id': 'artist:37', 'role': 'Mr. Brown'}, {'_id': 'artist:98', 'role': 'Mr. White/Larry'}, {'_id': 'artist:99', 'role': 'Freddy Newendyke/Mr. Orange'}, {'_id': 'artist:100', 'role': 'Nice Guy Eddie'}, {'_id': 'artist:215', 'role': 'Mr Blonde'}, {'_id': 'artist:217', 'role': 'Mr Pink'}, {'_id': 'artist:218', 'role': 'Mr Blue'}]}, {'_id': 'movie:53', 'title': 'Bad Lieutenant', 'actors': [{'_id': 'artist:98', 'role': 'Le lieutenant'}]}, {'_id': 'movie:17', 'title': 'Pulp fiction', 'actors': [{'_id': 'artist:11', 'role': 'Vincent Vega'}, {'_id': 'artist:27', 'role': 'Butch Coolidge'}, {'_id': 'artist:37', 'role': 'Jimmy Dimmick'}, {'_id': 'artist:38', 'role': 'Jules Winnfield'}, {'_id': 'artist:39', 'role': 'Jody'}, {'_id': 'artist:40', 'role': 'Mia Wallace'}, {'_id': 'artist:97', 'role': 'Capt. Koons'}, {'_id': 'artist:98', 'role': 'Winston \"The Wolf\" Wolfe'}, {'_id': 'artist:99', 'role': 'Pumpkin (Ringo)'}]}]\n"
     ]
    }
   ],
   "source": [
    "################################ Opérateurs ensemblistes : in, not in, any, all, exists ################################\n",
    "# Q : Combien de films dans lesquels ont joué au moins un des artistes suivants : 34, 98 et 1 et afficher leur titre et \n",
    "# la liste des actors ; sens du tri : chronologique et alphabétique croissant sur les noms des artistes.\n",
    "# Indice : Utiliser $in ; 3 films : Le parrain III, Bad Lieutenant, Reservoir dogs, Pulp fiction.\n",
    "\n",
    "def Q15():\n",
    "    #Connexion à mongo...\n",
    "    my_client = get_client()\n",
    "    \n",
    "    #Connexion à la base de données si elle existe.\n",
    "    if \"movies_artists\" in my_client.list_database_names():\n",
    "        print(\"The database exists.\")\n",
    "        my_db = my_client[\"movies_artists\"]\n",
    "        #Récuperation des films.\n",
    "        movies_query_Q15 = [ movie for movie in my_db[\"movies\"].find({\"actors._id\": {\"$in\": [\"artist:34\", \"artist:98\", \"artist:1\"]}}, {\"title\": 1, \"actors\": 1, \"date\": 1}).sort([(\"year\", 1), (\"actors\", 1)]) ]\n",
    "        print(\"Movies with artist 24, 98 or 1 :\\n{}\".format(movies_query_Q15))\n",
    "        \n",
    "    else:\n",
    "        print(\"The database doesn't exist...You should create it by calling previous methods\")\n",
    "        \n",
    "Q15()"
   ]
  },
  {
   "cell_type": "code",
   "execution_count": 15,
   "metadata": {},
   "outputs": [
    {
     "name": "stdout",
     "output_type": "stream",
     "text": [
      "The database exists.\n",
      "Movies with actors 23 and 147 :\n",
      "[{'_id': 'movie:9', 'title': 'Gladiator', 'year': 2000, 'genre': 'drama', 'summary': \"Le gÃ©nÃ©ral romain Maximus est le plus fidÃ¨le                    soutien de l'empereur Marc AurÃ¨le, qu'il a                    conduit de victoire en victoire avec une                    bravoure et un dÃ©vouement exemplaires.                    Jaloux du prestige de Maximus, et plus                    encore de l'amour que lui voue l'empereur,                    le fils de Marc-AurÃ¨le, Commode, s'arroge                    brutalement le pouvoir, puis ordonne                    l'arrestation du gÃ©nÃ©ral et son exÃ©cution.                    Maximus Ã©chappe Ã\\xa0 ses assassins mais ne peut                    empÃªcher le massacre de sa famille. CapturÃ©                    par un marchand d'esclaves, il devient                    gladiateur et prÃ©pare sa vengeance.\", 'country': 'USA', 'director': {'_id': 'artist:4'}, 'actors': [{'_id': 'artist:23', 'role': 'Maximus'}, {'_id': 'artist:147', 'role': 'Commode'}, {'_id': 'artist:148', 'role': 'Lucilla'}, {'_id': 'artist:149', 'role': 'Marc Aurele'}]}]\n"
     ]
    }
   ],
   "source": [
    "# Q : Chercher les films dans lesquels ont joué ensemble les actors 23 et 147 ?\n",
    "# Indice : Utiliser $all ; Gladiator\n",
    "\n",
    "def Q16():\n",
    "    #Connexion à mongo...\n",
    "    my_client = get_client()\n",
    "    \n",
    "    #Connexion à la base de données si elle existe.\n",
    "    if \"movies_artists\" in my_client.list_database_names():\n",
    "        print(\"The database exists.\")\n",
    "        my_db = my_client[\"movies_artists\"]\n",
    "        #Récuperation des films.\n",
    "        movies_query_Q16 = [ movie for movie in my_db[\"movies\"].find({\"actors._id\": {\"$all\": [\"artist:23\", \"artist:147\"]}}) ]\n",
    "        print(\"Movies with actors 23 and 147 :\\n{}\".format(movies_query_Q16))\n",
    "        \n",
    "    else:\n",
    "        print(\"The database doesn't exist...You should create it by calling previous methods\")\n",
    "        \n",
    "Q16()"
   ]
  },
  {
   "cell_type": "code",
   "execution_count": 17,
   "metadata": {},
   "outputs": [
    {
     "name": "stdout",
     "output_type": "stream",
     "text": [
      "The database exists.\n",
      "Movies without actors 34, 98 or 1 :\n",
      "[{'_id': 'movie:92', 'title': 'Nous trois ou rien', 'actors': []}, {'_id': 'movie:85', 'title': 'Interstellar', 'actors': [{'_id': 'artist:267', 'role': 'Cooper'}, {'_id': 'artist:268', 'role': '   Brand '}, {'_id': 'artist:269', 'role': 'Professor Brand'}]}, {'_id': 'movie:78', 'title': 'Django unchained', 'actors': [{'_id': 'artist:110', 'role': 'Calvin Candie'}, {'_id': 'artist:212', 'role': 'Stephen'}, {'_id': 'artist:255', 'role': 'Django'}, {'_id': 'artist:256', 'role': 'Dr. King Schultz'}]}, {'_id': 'movie:90', 'title': 'The Dark Knight Rises', 'actors': [{'_id': 'artist:22', 'role': 'Lucius Fox'}, {'_id': 'artist:116', 'role': 'Commissioner Gordon'}, {'_id': 'artist:268', 'role': 'Selina'}, {'_id': 'artist:269', 'role': 'Alfred'}, {'_id': 'artist:271', 'role': 'Miranda'}, {'_id': 'artist:274', 'role': 'Bruce Wayne / Batman'}]}, {'_id': 'movie:86', 'title': 'Inception', 'actors': [{'_id': 'artist:110', 'role': 'Cobb'}, {'_id': 'artist:269', 'role': 'Miles'}, {'_id': 'artist:270', 'role': 'Ariadne'}, {'_id': 'artist:271', 'role': 'Mal'}]}, {'_id': 'movie:80', 'title': 'Inglourious Basterds', 'actors': [{'_id': 'artist:32', 'role': 'Lt. Aldo Raine'}, {'_id': 'artist:256', 'role': 'Col. Hans Landa'}, {'_id': 'artist:257', 'role': 'Shoshana'}, {'_id': 'artist:258', 'role': 'Lt. Archie Hicox'}]}, {'_id': 'movie:91', 'title': 'Un prophÃ¨te', 'actors': [{'_id': 'artist:279', 'role': 'Malik El Djebena '}, {'_id': 'artist:280', 'role': 'CÃ©sar Luciani'}]}, {'_id': 'movie:89', 'title': 'The Dark Knight', 'actors': [{'_id': 'artist:22', 'role': 'Lucius Fox'}, {'_id': 'artist:116', 'role': 'Gordon'}, {'_id': 'artist:269', 'role': 'Alfred'}, {'_id': 'artist:274', 'role': 'Bruce Wayne / Batman'}, {'_id': 'artist:276', 'role': 'Joker'}, {'_id': 'artist:277', 'role': 'Rachel'}]}, {'_id': 'movie:76', 'title': 'No country for old men', 'actors': [{'_id': 'artist:250', 'role': 'Anton Chigurh'}, {'_id': 'artist:252', 'role': 'Ed Tom Bell'}, {'_id': 'artist:253', 'role': 'Llewelyn Moss'}]}, {'_id': 'movie:73', 'title': 'Casino Royale', 'actors': [{'_id': 'artist:247', 'role': 'James Bond'}, {'_id': 'artist:248', 'role': 'Vesper Lynd'}]}, {'_id': 'movie:67', 'title': 'Marie Antoinette', 'actors': [{'_id': 'artist:2', 'role': 'Marie Antoinette'}]}, {'_id': 'movie:88', 'title': 'Batman begins', 'actors': [{'_id': 'artist:22', 'role': 'Lucius Fox '}, {'_id': 'artist:116', 'role': ' Jim Gordon '}, {'_id': 'artist:269', 'role': 'Alfred'}, {'_id': 'artist:274', 'role': ' Bruce Wayne / Batman '}, {'_id': 'artist:275', 'role': 'Ducard'}]}, {'_id': 'movie:63', 'title': 'Million Dollar Baby', 'actors': [{'_id': 'artist:20', 'role': 'Frankie Dunn'}, {'_id': 'artist:22', 'role': 'Eddie Scrap-Iron Dupris'}, {'_id': 'artist:224', 'role': 'Maggie Fitzerald'}]}, {'_id': 'movie:61', 'title': 'Kill Bill', 'actors': [{'_id': 'artist:40', 'role': 'La mariÃ©e, alias \"Black Mamba\"'}, {'_id': 'artist:213', 'role': 'O-Ren Ishii'}, {'_id': 'artist:214', 'role': 'Bill'}, {'_id': 'artist:215', 'role': 'Budd / Sidewinder'}, {'_id': 'artist:216', 'role': 'Elle Driver'}]}, {'_id': 'movie:60', 'title': 'Lost in Translation', 'actors': [{'_id': 'artist:173', 'role': 'Bob Harris'}, {'_id': 'artist:174', 'role': 'Charlotte'}, {'_id': 'artist:175', 'role': 'John'}, {'_id': 'artist:176', 'role': 'Kelly'}, {'_id': 'artist:177', 'role': 'Patron Nightclub'}]}, {'_id': 'movie:50', 'title': 'The Matrix Revolutions', 'actors': [{'_id': 'artist:62', 'role': 'Neo'}, {'_id': 'artist:63', 'role': 'Morpheus'}, {'_id': 'artist:134', 'role': 'Agent Smith'}, {'_id': 'artist:136', 'role': 'Trinity'}, {'_id': 'artist:137', 'role': \"L'Oracle\"}]}, {'_id': 'movie:49', 'title': 'The Matrix reloaded', 'actors': [{'_id': 'artist:62', 'role': 'Neo'}, {'_id': 'artist:63', 'role': 'Morpheus'}, {'_id': 'artist:210', 'role': 'Trinity'}, {'_id': 'artist:211', 'role': 'Agent Smith'}]}, {'_id': 'movie:47', 'title': 'Spider-Man', 'actors': [{'_id': 'artist:124', 'role': 'Spider-Man'}, {'_id': 'artist:125', 'role': 'Norman Osborn'}, {'_id': 'artist:126', 'role': 'Mary Jane Watson'}, {'_id': 'artist:127', 'role': 'Oncle Ben'}, {'_id': 'artist:128', 'role': 'Tante May'}]}, {'_id': 'movie:62', 'title': 'Stalingrad', 'actors': [{'_id': 'artist:182', 'role': 'Vassili ZaÃ¯tzev'}, {'_id': 'artist:183', 'role': 'major KÃ¶nig'}]}, {'_id': 'movie:9', 'title': 'Gladiator', 'actors': [{'_id': 'artist:23', 'role': 'Maximus'}, {'_id': 'artist:147', 'role': 'Commode'}, {'_id': 'artist:148', 'role': 'Lucilla'}, {'_id': 'artist:149', 'role': 'Marc Aurele'}]}, {'_id': 'movie:87', 'title': 'Memento', 'actors': [{'_id': 'artist:272', 'role': 'Leonard'}, {'_id': 'artist:273', 'role': 'Natalie'}]}, {'_id': 'movie:7', 'title': 'American Beauty', 'actors': [{'_id': 'artist:18', 'role': 'Lester Burnham'}, {'_id': 'artist:19', 'role': 'Carolyn Burnham'}]}, {'_id': 'movie:37', 'title': 'Eyes Wide Shut', 'actors': [{'_id': 'artist:65', 'role': 'Docteur William \"Bill\" Harford'}, {'_id': 'artist:102', 'role': 'Alice Harford'}]}, {'_id': 'movie:42', 'title': \"Jeanne d'Arc\", 'actors': [{'_id': 'artist:80', 'role': None}, {'_id': 'artist:112', 'role': \"Jeanne d'Arc\"}, {'_id': 'artist:113', 'role': \"Yolande d'Aragon\"}, {'_id': 'artist:114', 'role': 'Charles VII'}, {'_id': 'artist:115', 'role': 'Dunois'}]}, {'_id': 'movie:23', 'title': 'Matrix', 'actors': [{'_id': 'artist:62', 'role': 'Neo'}, {'_id': 'artist:63', 'role': 'Morpheus'}]}, {'_id': 'movie:59', 'title': 'SixiÃ¨me sens', 'actors': [{'_id': 'artist:27', 'role': 'Malcom Crowe'}, {'_id': 'artist:171', 'role': 'Cole Sear'}]}, {'_id': 'movie:6', 'title': 'Sleepy Hollow', 'actors': [{'_id': 'artist:14', 'role': 'Constable Ichabod Crane'}, {'_id': 'artist:96', 'role': 'Katrina Anne Van Tassel'}, {'_id': 'artist:97', 'role': 'Le cavalier'}]}, {'_id': 'movie:22', 'title': 'Godzilla', 'actors': [{'_id': 'artist:59', 'role': 'Dr. Nikos Tatopoulos'}, {'_id': 'artist:60', 'role': 'Philippe RoachÃ©'}]}, {'_id': 'movie:18', 'title': 'Mary Ã\\xa0 tout prix', 'actors': [{'_id': 'artist:42', 'role': 'Mary Jensen Matthews'}, {'_id': 'artist:43', 'role': 'Pat Healy'}]}, {'_id': 'movie:57', 'title': 'Jackie Brown', 'actors': [{'_id': 'artist:167', 'role': 'Luis Gara'}, {'_id': 'artist:168', 'role': 'Jackie Brown'}, {'_id': 'artist:169', 'role': 'Melanie'}, {'_id': 'artist:170', 'role': 'Ray Nicolette'}, {'_id': 'artist:212', 'role': 'Ordell Robbie'}]}, {'_id': 'movie:43', 'title': 'Le cinquiÃ¨me Ã©lÃ©ment', 'actors': [{'_id': 'artist:27', 'role': 'Major Korben Dalla'}, {'_id': 'artist:112', 'role': 'Leeloo'}, {'_id': 'artist:116', 'role': 'Jean-Baptiste Emmanuel Zorg'}, {'_id': 'artist:117', 'role': 'Vito Cornelius'}]}, {'_id': 'movie:28', 'title': 'Le monde perdu', 'actors': [{'_id': 'artist:57', 'role': 'Dr. Ian Malcolm'}]}, {'_id': 'movie:26', 'title': 'Les pleins pouvoirs', 'actors': [{'_id': 'artist:20', 'role': 'Luther Whitney'}, {'_id': 'artist:21', 'role': 'Le prÃ©sident Richmond'}, {'_id': 'artist:69', 'role': 'Seth Frank'}]}, {'_id': 'movie:3', 'title': 'Titanic', 'actors': [{'_id': 'artist:109', 'role': 'Rose DeWitt Bukater'}, {'_id': 'artist:110', 'role': 'Jack Dawson'}]}, {'_id': 'movie:5', 'title': 'Volte/Face', 'actors': [{'_id': 'artist:11', 'role': 'Sean Archer/Castor Troy'}, {'_id': 'artist:12', 'role': 'Castor Troy/Sean Archer'}]}, {'_id': 'movie:77', 'title': 'Fargo', 'actors': [{'_id': 'artist:217', 'role': 'Carl Showalter'}, {'_id': 'artist:254', 'role': ' Jerry Lundegaard '}]}, {'_id': 'movie:24', 'title': 'Mission: Impossible', 'actors': [{'_id': 'artist:60', 'role': 'Franz Krieger'}, {'_id': 'artist:65', 'role': 'Ethan Hunt'}, {'_id': 'artist:66', 'role': 'Jim Phelps'}, {'_id': 'artist:67', 'role': 'Claire Phelps'}]}, {'_id': 'movie:72', 'title': 'Casino', 'actors': [{'_id': 'artist:167', 'role': \"Sam 'Ace' Rothstein\"}, {'_id': 'artist:243', 'role': '  Nicky Santoro '}, {'_id': 'artist:245', 'role': 'Ginger McKenna'}]}, {'_id': 'movie:69', 'title': 'Heat', 'actors': [{'_id': 'artist:167', 'role': None}]}, {'_id': 'movie:14', 'title': 'Seven', 'actors': [{'_id': 'artist:18', 'role': 'Doe'}, {'_id': 'artist:22', 'role': 'Somerset'}, {'_id': 'artist:32', 'role': 'Mills'}]}, {'_id': 'movie:15', 'title': 'Twelve Monkeys', 'actors': [{'_id': 'artist:27', 'role': 'Cole'}]}, {'_id': 'movie:58', 'title': 'Une journÃ©e en enfer', 'actors': [{'_id': 'artist:27', 'role': 'McClane'}, {'_id': 'artist:38', 'role': 'Zeus Carver'}, {'_id': 'artist:169', 'role': 'Simon Gruber'}]}, {'_id': 'movie:52', 'title': 'Usual suspects', 'actors': [{'_id': 'artist:18', 'role': 'Roger \"Verbal\" Kint'}, {'_id': 'artist:143', 'role': 'Micheal McManus'}, {'_id': 'artist:144', 'role': 'Dean Keaton'}, {'_id': 'artist:145', 'role': 'Fred Fenster'}, {'_id': 'artist:146', 'role': 'Todd Hockney'}]}, {'_id': 'movie:44', 'title': 'LÃ©on', 'actors': [{'_id': 'artist:60', 'role': 'LÃ©on'}, {'_id': 'artist:116', 'role': 'Norman Stansfield'}, {'_id': 'artist:118', 'role': 'Mathilda'}]}, {'_id': 'movie:8', 'title': 'Impitoyable', 'actors': [{'_id': 'artist:20', 'role': 'William Munny'}, {'_id': 'artist:21', 'role': 'Little Bill Dagget'}, {'_id': 'artist:22', 'role': 'Ned Logan'}]}, {'_id': 'movie:12', 'title': '58 minutes pour vivre', 'actors': [{'_id': 'artist:27', 'role': 'McClane'}]}, {'_id': 'movie:48', 'title': 'King of New York', 'actors': [{'_id': 'artist:63', 'role': 'Jimmy Jump'}, {'_id': 'artist:97', 'role': 'Frank White'}, {'_id': 'artist:124', 'role': 'Thomas Flanigan'}, {'_id': 'artist:131', 'role': 'Dennis Gilley'}, {'_id': 'artist:132', 'role': 'Thomas Flanigan'}, {'_id': 'artist:217', 'role': 'Test tube'}]}, {'_id': 'movie:21', 'title': 'Le silence des agneaux', 'actors': [{'_id': 'artist:50', 'role': 'Dr. Hannibal Lecter'}, {'_id': 'artist:51', 'role': 'Clarice Starling'}]}, {'_id': 'movie:71', 'title': 'Les affranchis', 'actors': [{'_id': 'artist:167', 'role': 'James Conway'}, {'_id': 'artist:242', 'role': 'Henry Hill'}, {'_id': 'artist:243', 'role': 'Tommy DeVito'}, {'_id': 'artist:244', 'role': 'Karen Hill'}]}, {'_id': 'movie:45', 'title': 'Nikita', 'actors': [{'_id': 'artist:115', 'role': 'Bob'}, {'_id': 'artist:119', 'role': 'Nikita'}, {'_id': 'artist:120', 'role': 'Marco'}]}, {'_id': 'movie:13', 'title': 'Van Gogh', 'actors': [{'_id': 'artist:30', 'role': 'Van Gogh'}]}, {'_id': 'movie:51', 'title': 'De bruit et de fureur', 'actors': [{'_id': 'artist:139', 'role': 'Marcel'}, {'_id': 'artist:140', 'role': 'Enseignante'}, {'_id': 'artist:141', 'role': 'Bruno'}]}, {'_id': 'movie:46', 'title': 'Le grand bleu', 'actors': [{'_id': 'artist:39', 'role': 'Johanna'}, {'_id': 'artist:60', 'role': 'Enzo Molinari'}, {'_id': 'artist:121', 'role': 'Jacques Mayol'}]}, {'_id': 'movie:11', 'title': 'PiÃ¨ge de cristal', 'actors': [{'_id': 'artist:27', 'role': 'McClane'}]}, {'_id': 'movie:29', 'title': 'Rain Man', 'actors': [{'_id': 'artist:65', 'role': 'Charlie Babbitt'}, {'_id': 'artist:80', 'role': 'Raymond Babbitt'}]}, {'_id': 'movie:16', 'title': 'Le last_name de la rose', 'actors': [{'_id': 'artist:35', 'role': 'Baskerville'}, {'_id': 'artist:36', 'role': 'de Melk'}]}, {'_id': 'movie:4', 'title': 'Sacrifice', 'actors': []}, {'_id': 'movie:30', 'title': 'Top Gun', 'actors': [{'_id': 'artist:53', 'role': 'Iceman'}, {'_id': 'artist:65', 'role': 'Lt. Pete Maverick Mitchell'}, {'_id': 'artist:82', 'role': 'Charlotte Blackwood'}]}, {'_id': 'movie:19', 'title': 'Terminator', 'actors': [{'_id': 'artist:44', 'role': 'Terminator'}]}, {'_id': 'movie:34', 'title': 'Le retour du Jedi', 'actors': [{'_id': 'artist:24', 'role': 'Han Solo'}, {'_id': 'artist:92', 'role': 'Luke Skywalker'}, {'_id': 'artist:93', 'role': 'Princesse Leia'}]}, {'_id': 'movie:10', 'title': 'Blade Runner', 'actors': [{'_id': 'artist:24', 'role': 'Deckard'}, {'_id': 'artist:25', 'role': 'Batty'}]}, {'_id': 'movie:25', 'title': 'Kagemusha', 'actors': []}, {'_id': 'movie:82', 'title': 'Le dernier mÃ©tro', 'actors': [{'_id': 'artist:130', 'role': 'Marion Steiner'}, {'_id': 'artist:261', 'role': 'Bernard Granger'}, {'_id': 'artist:262', 'role': 'Jean-Loup Cottins'}]}, {'_id': 'movie:38', 'title': 'Shining', 'actors': [{'_id': 'artist:103', 'role': 'Jack Torrance'}]}, {'_id': 'movie:2', 'title': 'Alien', 'actors': [{'_id': 'artist:5', 'role': 'Ripley'}]}, {'_id': 'movie:31', 'title': 'Les bronzÃ©s font du ski', 'actors': [{'_id': 'artist:75', 'role': 'Nathalie Morin'}, {'_id': 'artist:76', 'role': 'Christiane'}, {'_id': 'artist:84', 'role': 'Jean-Claude Dus'}, {'_id': 'artist:85', 'role': 'JÃ©rÃ´me'}, {'_id': 'artist:86', 'role': 'Popeye'}]}, {'_id': 'movie:27', 'title': 'Le gendarme et les extra-terrestres', 'actors': [{'_id': 'artist:72', 'role': 'Inspecteur Cruchot'}, {'_id': 'artist:73', 'role': 'Adjudant Gerber'}]}, {'_id': 'movie:70', 'title': 'Taxi driver', 'actors': [{'_id': 'artist:51', 'role': '1962'}, {'_id': 'artist:167', 'role': 'Travis Bickle '}]}, {'_id': 'movie:20', 'title': 'Les dents de la mer', 'actors': [{'_id': 'artist:46', 'role': 'Martin Brody'}, {'_id': 'artist:47', 'role': 'Quint'}, {'_id': 'artist:48', 'role': 'Matt Hooper'}]}, {'_id': 'movie:55', 'title': 'Le parrain II', 'actors': [{'_id': 'artist:167', 'role': 'Don Vito Corleone'}, {'_id': 'artist:176', 'role': 'Michael Corleone'}, {'_id': 'artist:183', 'role': 'Kay Adams'}, {'_id': 'artist:184', 'role': 'Tom Hagen'}]}, {'_id': 'movie:68', 'title': 'Soleil vert', 'actors': [{'_id': 'artist:8', 'role': 'sol'}]}, {'_id': 'movie:54', 'title': 'Le parrain', 'actors': [{'_id': 'artist:137', 'role': 'Sonny Corleone'}, {'_id': 'artist:155', 'role': 'Capt. McCluskey'}, {'_id': 'artist:176', 'role': 'Michael Corleone'}, {'_id': 'artist:182', 'role': 'Do Vito Corleone'}, {'_id': 'artist:183', 'role': 'Kay Adams'}, {'_id': 'artist:184', 'role': 'Tom Hagen'}]}, {'_id': 'movie:32', 'title': 'Le bon, la brute et le truand', 'actors': [{'_id': 'artist:20', 'role': None}]}, {'_id': 'movie:64', 'title': 'Pour quelques dollars de plus', 'actors': []}, {'_id': 'movie:39', 'title': 'Pas de printemps pour Marnie', 'actors': [{'_id': 'artist:35', 'role': '\\n                       Mark R'}, {'_id': 'artist:95', 'role': 'Marnie Edgar'}]}, {'_id': 'movie:35', 'title': 'Les oiseaux', 'actors': [{'_id': 'artist:94', 'role': 'Mitch Brenner'}, {'_id': 'artist:95', 'role': 'Melanie Daniels'}]}, {'_id': 'movie:33', 'title': 'Psychose', 'actors': [{'_id': 'artist:88', 'role': 'Bates'}, {'_id': 'artist:89', 'role': 'Lila Crane'}, {'_id': 'artist:90', 'role': 'Marion Crane'}]}, {'_id': 'movie:41', 'title': 'La mort aux trousses', 'actors': [{'_id': 'artist:105', 'role': 'Roger O. Thornhill'}, {'_id': 'artist:106', 'role': 'Eve Kendall'}, {'_id': 'artist:107', 'role': 'Philipp Vandamm'}]}, {'_id': 'movie:81', 'title': 'Les quatre cents coups', 'actors': [{'_id': 'artist:260', 'role': 'Antoine Doinel'}]}, {'_id': 'movie:1', 'title': 'Vertigo', 'actors': [{'_id': 'artist:15', 'role': 'John Ferguson'}, {'_id': 'artist:16', 'role': 'Madeleine Elster'}, {'_id': 'artist:282', 'role': None}]}, {'_id': 'movie:40', 'title': 'FenÃªtre sur cour', 'actors': []}, {'_id': 'movie:84', 'title': 'Rio Grande', 'actors': [{'_id': 'artist:264', 'role': 'Lt. Col. Kirby Yorke'}, {'_id': 'artist:265', 'role': 'Mrs. Kathleen Yorke'}]}, {'_id': 'movie:74', 'title': 'Skyfall', 'actors': [{'_id': 'artist:247', 'role': 'James Bond'}, {'_id': 'artist:249', 'role': 'M'}, {'_id': 'artist:250', 'role': 'Silva'}]}, {'_id': 'movie:79', 'title': 'Inglourious Basterds', 'actors': []}]\n"
     ]
    }
   ],
   "source": [
    "# Q : Combien de films dans lesquels ont joué ni l'acteur 34, ni 98, ni 1 et afficher leur titre et la liste des actors ; \n",
    "# sens du tri : chronologique décroissant et alphabétique croissant sur les titres des films.\n",
    "# Indice : 84 films ; Utiliser $in\n",
    "\n",
    "def Q17():\n",
    "    #Connexion à mongo...\n",
    "    my_client = get_client()\n",
    "    \n",
    "    #Connexion à la base de données si elle existe.\n",
    "    if \"movies_artists\" in my_client.list_database_names():\n",
    "        print(\"The database exists.\")\n",
    "        my_db = my_client[\"movies_artists\"]\n",
    "        #Récuperation des films.\n",
    "        movies_query_Q17 = [ movie for movie in my_db[\"movies\"].find({\"actors._id\": {\"$not\": {\"$in\": [\"artist:34\", \"artist:98\", \"artist:1\"]}}}, {\"title\": 1, \"actors\": 1}).sort([(\"year\", -1), (\"title\", 1)]) ]\n",
    "        print(\"Movies without actors 34, 98 or 1 :\\n{}\".format(movies_query_Q17))\n",
    "        \n",
    "    else:\n",
    "        print(\"The database doesn't exist...You should create it by calling previous methods\")\n",
    "        \n",
    "Q17()"
   ]
  },
  {
   "cell_type": "code",
   "execution_count": 22,
   "metadata": {},
   "outputs": [
    {
     "name": "stdout",
     "output_type": "stream",
     "text": [
      "The database exists.\n",
      "Movies without actors :\n",
      "[{'_id': 'movie:4', 'title': 'Sacrifice', 'year': 1986, 'genre': 'drama', 'summary': None, 'country': 'FR', 'director': {'_id': 'artist:9'}, 'actors': []}, {'_id': 'movie:25', 'title': 'Kagemusha', 'year': 1980, 'genre': 'Guerre', 'summary': \"Au XVIe siecle, Takeda, grand seigneur trouble par les guerres civiles de son pays, fait appel a un Kagemusha pour l'aider dans ses batailles. Takeda est blesse et avant de mourir, il exige que sa mort soit tenue secrete pendant trois ans afin d'eviter un eclatement du clan. Le Kagemusha devra le remplacer... \", 'country': 'JP', 'director': {'_id': 'artist:68'}, 'actors': []}, {'_id': 'movie:40', 'title': 'FenÃªtre sur cour', 'year': 1954, 'genre': 'Suspense', 'summary': \"En repos forcÃ© Ã\\xa0 cause d'une jambe plÃ¢trÃ©e, le reporter L.B. Jefferies observe au tÃ©lÃ©objectif les voisins de l'immeuble d'en face. C'est ainsi qu'il remarque le curieux manÃ¨ge d'un reprÃ©sentant de commerce, M. Thorwald, qu'il soupconne trÃ¨s vite d'avoir assassinÃ© sa femme... \", 'country': 'USA', 'director': {'_id': 'artist:3'}, 'actors': []}, {'_id': 'movie:64', 'title': 'Pour quelques dollars de plus', 'year': 1965, 'genre': 'Western', 'summary': 'Le colonel Douglas Mortimer collabore avec un chasseur de primes surlast_namemÃ© L\\'\"Etranger\". Tous les deux souhaitent capturer Indio, un tueur fou, qui sÃ¨me la terreur autour de lui. Ce dernier et ses hommes sont sur le point de piller la banque d\\'El Paso.', 'country': 'IT', 'director': {'_id': 'artist:219'}, 'actors': []}, {'_id': 'movie:79', 'title': 'Inglourious Basterds', 'year': 209, 'genre': 'Guerre', 'summary': 'Dans la France occupÃ©e de 1940, Shosanna Dreyfus assiste Ã\\xa0 l\\'exÃ©cution de sa famille tombÃ©e entre les mains du colonel nazi Hans Landa. Shosanna s\\'Ã©chappe de justesse et s\\'enfuit Ã\\xa0 Paris oÃ¹ elle se construit une nouvelle identitÃ© en devenant exploitante d\\'une salle de cinÃ©ma.Quelque part ailleurs en Europe, le lieutenant Aldo Raine forme un groupe de soldats juifs amÃ©ricains pour mener des actions punitives particuliÃ¨rement sanglantes contre les nazis. \"Les bÃ¢tards\", last_name sous lequel leurs ennemis vont apprendre Ã\\xa0 les connaÃ®tre, se joignent Ã\\xa0 l\\'actrice allemande et agent secret Bridget von Hammersmark pour tenter d\\'Ã©liminer les hauts dignitaires du TroisiÃ¨me Reich. Leurs destins vont se jouer Ã\\xa0 l\\'entrÃ©e du cinÃ©ma oÃ¹ Shosanna est dÃ©cidÃ©e Ã\\xa0 mettre Ã\\xa0 exÃ©cution une vengeance trÃ¨s personnelle... ', 'country': 'USA', 'director': {'_id': 'artist:37'}, 'actors': []}, {'_id': 'movie:92', 'title': 'Nous trois ou rien', 'year': 2015, 'genre': 'drama', 'summary': 'Dâ€™un petit village du sud de lâ€™Iran aux citÃ©s parisiennes, Kheiron nous raconte le destin hors du commun de ses parents Hibat et Fereshteh, Ã©ternels optimistes, dans une comÃ©die aux airs de conte universel qui Ã©voque lâ€™amour familial, le don de soi et surtout lâ€™idÃ©al dâ€™un vivre-ensemble. ', 'country': 'FR', 'director': {'_id': 'artist:281'}, 'actors': []}]\n"
     ]
    }
   ],
   "source": [
    "# Q : Combien de films qui n’ont pas d’attribut actors ? Combien de films dont l'attribut actors n'est pas renseigné et les afficher ?\n",
    "# Indice : 0 films ; 6 films\n",
    "\n",
    "def Q18():\n",
    "    #Connexion à mongo...\n",
    "    my_client = get_client()\n",
    "    \n",
    "    #Connexion à la base de données si elle existe.\n",
    "    if \"movies_artists\" in my_client.list_database_names():\n",
    "        print(\"The database exists.\")\n",
    "        my_db = my_client[\"movies_artists\"]\n",
    "        #Récuperation des films.\n",
    "        movies_query_Q18 = [ movie for movie in my_db[\"movies\"].find( { \"actors._id\": { \"$exists\": 0 } } ) ]\n",
    "        print(\"Movies without actors :\\n{}\".format(movies_query_Q18))\n",
    "        \n",
    "    else:\n",
    "        print(\"The database doesn't exist...You should create it by calling previous methods\")\n",
    "        \n",
    "Q18()"
   ]
  },
  {
   "cell_type": "code",
   "execution_count": 25,
   "metadata": {},
   "outputs": [
    {
     "name": "stdout",
     "output_type": "stream",
     "text": [
      "The database exists.\n",
      "{'_id': 'artist:20', 'last_name': 'Eastwood', 'first_name': 'Clint', 'birth_date': 1930}\n",
      "Movies created by Clint Eastwood :\n",
      "[{'_id': 'movie:8', 'title': 'Impitoyable', 'director': {'_id': 'artist:20'}}, {'_id': 'movie:26', 'title': 'Les pleins pouvoirs', 'director': {'_id': 'artist:20'}}, {'_id': 'movie:63', 'title': 'Million Dollar Baby', 'director': {'_id': 'artist:20'}}]\n"
     ]
    }
   ],
   "source": [
    "################################ Jointure ################################\n",
    "\n",
    "def Q19():\n",
    "    #Connexion à mongo...\n",
    "    my_client = get_client()\n",
    "    \n",
    "    #Connexion à la base de données si elle existe.\n",
    "    if \"movies_artists\" in my_client.list_database_names():\n",
    "        print(\"The database exists.\")\n",
    "        my_db = my_client[\"movies_artists\"]\n",
    "        #Récuperation des films.\n",
    "        eastwood = my_db[\"artists\"].find_one({\"first_name\": \"Clint\", \"last_name\": \"Eastwood\"})\n",
    "        movies_query_Q19 = [ movie for movie in my_db[\"movies\"].find({\"director._id\": eastwood['_id']}, {\"title\": 1, \"director._id\" : 1}) ]\n",
    "        print(\"Movies created by Clint Eastwood :\\n{}\".format(movies_query_Q19))\n",
    "        \n",
    "    else:\n",
    "        print(\"The database doesn't exist...You should create it by calling previous methods\")\n",
    "        \n",
    "Q19()"
   ]
  },
  {
   "cell_type": "code",
   "execution_count": 31,
   "metadata": {},
   "outputs": [
    {
     "name": "stdout",
     "output_type": "stream",
     "text": [
      "The database exists.\n",
      "Movies with title begining :\n",
      "[{'_id': 'movie:36', 'title': 'Reservoir dogs', 'year': 1992, 'genre': 'crime', 'country': 'USA', 'director': {'_id': 'artist:37'}}]\n"
     ]
    }
   ],
   "source": [
    "################################ Expressions régulières ################################\n",
    "\n",
    "# Q : Tous les films dont le titre commence par 'Re'.\n",
    "# db.movies.find ({\"title\": /^Re/}, {\"actors\": null, \"summary\": 0}).pretty()\n",
    "def Q20():\n",
    "    #Connexion à mongo...\n",
    "    my_client = get_client()\n",
    "    \n",
    "    #Connexion à la base de données si elle existe.\n",
    "    if \"movies_artists\" in my_client.list_database_names():\n",
    "        print(\"The database exists.\")\n",
    "        my_db = my_client[\"movies_artists\"]\n",
    "        #Récuperation des films.\n",
    "        movies_query_Q20 = [ movie for movie in my_db[\"movies\"].find({\"title\": { \"$regex\": '^Re' }}, {\"actors\": 0, \"summary\": 0}) ]\n",
    "        print(\"Movies with title begining by re:\\n{}\".format(movies_query_Q20))\n",
    "        \n",
    "    else:\n",
    "        print(\"The database doesn't exist...You should create it by calling previous methods\")\n",
    "        \n",
    "Q20()"
   ]
  },
  {
   "cell_type": "code",
   "execution_count": 32,
   "metadata": {},
   "outputs": [
    {
     "name": "stdout",
     "output_type": "stream",
     "text": [
      "The database exists.\n",
      "Movies with title ending by la :\n",
      "[{'_id': 'movie:22', 'title': 'Godzilla', 'year': 1998, 'genre': 'Action', 'country': 'USA', 'director': {'_id': 'artist:58'}}]\n"
     ]
    }
   ],
   "source": [
    "# Q : Tous les films dont le titre finit par 'la'.\n",
    "# db.movies.find ({\"title\": /la$/}, {\"actors\": null, \"summary\": 0}).pretty()\n",
    "def Q21():\n",
    "    #Connexion à mongo...\n",
    "    my_client = get_client()\n",
    "    \n",
    "    #Connexion à la base de données si elle existe.\n",
    "    if \"movies_artists\" in my_client.list_database_names():\n",
    "        print(\"The database exists.\")\n",
    "        my_db = my_client[\"movies_artists\"]\n",
    "        #Récuperation des films.\n",
    "        movies_query_Q21 = [ movie for movie in my_db[\"movies\"].find({\"title\": { \"$regex\": 'la$' }}, {\"actors\": 0, \"summary\": 0}) ]\n",
    "        print(\"Movies with title ending by la :\\n{}\".format(movies_query_Q21))\n",
    "        \n",
    "    else:\n",
    "        print(\"The database doesn't exist...You should create it by calling previous methods\")\n",
    "        \n",
    "Q21()"
   ]
  },
  {
   "cell_type": "code",
   "execution_count": 3,
   "metadata": {},
   "outputs": [
    {
     "name": "stdout",
     "output_type": "stream",
     "text": [
      "The database exists.\n",
      "Actor 147 has played in 1 movies.\n",
      "Movie with actor 147 :\n",
      "[{'_id': 'movie:9', 'title': 'Gladiator', 'actors': [{'_id': 'artist:23', 'role': 'Maximus'}, {'_id': 'artist:147', 'role': 'Commode'}, {'_id': 'artist:148', 'role': 'Lucilla'}, {'_id': 'artist:149', 'role': 'Marc Aurele'}]}]\n"
     ]
    }
   ],
   "source": [
    "# Q : Combien de films ont été joués par l'acteur dont l'id est 147 et les afficher en se limitant au titre du film et \n",
    "# la liste des acteurs.\n",
    "\n",
    "def Q22():\n",
    "    #Connexion à mongo...\n",
    "    my_client = get_client()\n",
    "    \n",
    "    #Connexion à la base de données si elle existe.\n",
    "    if \"movies_artists\" in my_client.list_database_names():\n",
    "        print(\"The database exists.\")\n",
    "        my_db = my_client[\"movies_artists\"]\n",
    "        #Récuperation des films.\n",
    "        movies_count_Q22 = my_db[\"movies\"].count_documents(({\"actors._id\": \"artist:147\"}))\n",
    "        print(\"Actor 147 has played in {} movies.\".format(movies_count_Q22))\n",
    "        movies_query_Q22 = [ movie for movie in my_db[\"movies\"].find({\"actors._id\": \"artist:147\"}, {\"title\": 1, \"actors\": 1}) ]\n",
    "        \n",
    "        print(\"Movie with actor 147 :\\n{}\".format(movies_query_Q22))\n",
    "        \n",
    "    else:\n",
    "        print(\"The database doesn't exist...You should create it by calling previous methods\")\n",
    "        \n",
    "Q22()"
   ]
  },
  {
   "cell_type": "code",
   "execution_count": 5,
   "metadata": {},
   "outputs": [
    {
     "name": "stdout",
     "output_type": "stream",
     "text": [
      "The database exists.\n",
      "Movie with actor 147 :\n",
      "[{'_id': 'movie:9', 'title': 'Gladiator', 'year': 2000, 'genre': 'drama', 'country': 'USA', 'director': {'_id': 'artist:4'}}]\n"
     ]
    }
   ],
   "source": [
    "# Q : Retourner les films joués par l'acteur 147 sans les acteurs et sans le résumé.\n",
    "\n",
    "def Q23():\n",
    "    #Connexion à mongo...\n",
    "    my_client = get_client()\n",
    "    \n",
    "    #Connexion à la base de données si elle existe.\n",
    "    if \"movies_artists\" in my_client.list_database_names():\n",
    "        print(\"The database exists.\")\n",
    "        my_db = my_client[\"movies_artists\"]\n",
    "        #Récuperation des films.\n",
    "        movies_query_Q23 = [ movie for movie in my_db[\"movies\"].find({\"actors._id\": \"artist:147\"}, {\"summary\": 0, \"actors\": 0}) ]\n",
    "        \n",
    "        print(\"Movie with actor 147 :\\n{}\".format(movies_query_Q23))\n",
    "        \n",
    "    else:\n",
    "        print(\"The database doesn't exist...You should create it by calling previous methods\")\n",
    "        \n",
    "Q23()"
   ]
  },
  {
   "cell_type": "code",
   "execution_count": null,
   "metadata": {},
   "outputs": [],
   "source": []
  }
 ],
 "metadata": {
  "kernelspec": {
   "display_name": "Python 3",
   "language": "python",
   "name": "python3"
  },
  "language_info": {
   "codemirror_mode": {
    "name": "ipython",
    "version": 3
   },
   "file_extension": ".py",
   "mimetype": "text/x-python",
   "name": "python",
   "nbconvert_exporter": "python",
   "pygments_lexer": "ipython3",
   "version": "3.8.3"
  }
 },
 "nbformat": 4,
 "nbformat_minor": 4
}
